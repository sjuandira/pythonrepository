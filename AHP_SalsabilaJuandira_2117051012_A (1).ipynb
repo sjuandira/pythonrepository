{
  "nbformat": 4,
  "nbformat_minor": 0,
  "metadata": {
    "colab": {
      "provenance": []
    },
    "kernelspec": {
      "name": "python3",
      "display_name": "Python 3"
    },
    "language_info": {
      "name": "python"
    }
  },
  "cells": [
    {
      "cell_type": "markdown",
      "source": [
        "#AHP (Analytic Hierarchy Process)\n",
        "Nama: Salsabila Juandira<br>\n",
        "NPM: 2117051012<br>\n",
        "Kelas: A"
      ],
      "metadata": {
        "id": "mgODYqISQVkP"
      }
    },
    {
      "cell_type": "markdown",
      "source": [
        "#Study Case\n",
        "Pemilihan tas wanita dengan 3 kriteria yaitu:<br>\n",
        "* Harga\n",
        "* Model\n",
        "* Kualitas<br>\n",
        "\n",
        "dan 3 alternatif merk tas yaitu:<br>\n",
        "* Charles&Keith\n",
        "* Zara\n",
        "* H&M"
      ],
      "metadata": {
        "id": "3y_fzaWfQwJB"
      }
    },
    {
      "cell_type": "markdown",
      "source": [
        "# Library"
      ],
      "metadata": {
        "id": "aFmtI4HzRs9g"
      }
    },
    {
      "cell_type": "code",
      "execution_count": null,
      "metadata": {
        "id": "zu85SIYqOZF0"
      },
      "outputs": [],
      "source": [
        "import numpy as np\n",
        "import pandas as pd\n",
        "from sklearn.preprocessing import normalize"
      ]
    },
    {
      "cell_type": "markdown",
      "source": [
        "#AHP Function"
      ],
      "metadata": {
        "id": "eCCbtnaFRwlY"
      }
    },
    {
      "cell_type": "code",
      "source": [
        "def calculate_priority(features, total_point):\n",
        "  n = len(features[0])\n",
        "  ahp_matrix = np.ones([n, n])\n",
        "\n",
        "  for i in range(0, n): # baris\n",
        "    for j in range(0, n): # kolom\n",
        "      if(i < j):\n",
        "        if(i == 0):\n",
        "          ahp_matrix[i, j] = float(features[1][j-1])\n",
        "          ahp_matrix[j, i] = float(1/features[1][j-1])\n",
        "        else:\n",
        "          if(ahp_matrix[0, j] < ahp_matrix[0, i]):\n",
        "            ahp_matrix[i, j] = float(1/((ahp_matrix[0, i] - ahp_matrix[0, j]) + 1))\n",
        "          else:\n",
        "            ahp_matrix[i, j] = float((ahp_matrix[0, j] - ahp_matrix[0, i]) + 1)\n",
        "          ahp_matrix[j, i] = float(1/ahp_matrix[i,j])\n",
        "\n",
        "  normalized_matrix = normalize(ahp_matrix, axis=0, norm=\"l1\")\n",
        "  weight = normalized_matrix.mean(1)\n",
        "\n",
        "  points = total_point*weight\n",
        "\n",
        "  return dict(zip(features[0], points))"
      ],
      "metadata": {
        "id": "QOBMUC9lRkur"
      },
      "execution_count": null,
      "outputs": []
    },
    {
      "cell_type": "markdown",
      "source": [
        "#Feature Priority"
      ],
      "metadata": {
        "id": "FtG3qyCqR0xq"
      }
    },
    {
      "cell_type": "code",
      "source": [
        "features = ['Model','Harga','Kualitas']\n",
        "feature_scores = calculate_priority([features, [4,3]], 1)\n",
        "feature_scores"
      ],
      "metadata": {
        "colab": {
          "base_uri": "https://localhost:8080/"
        },
        "id": "BB3rT3_TS1Bk",
        "outputId": "f7c5e710-1976-4001-cf76-495a798685ac"
      },
      "execution_count": null,
      "outputs": [
        {
          "output_type": "execute_result",
          "data": {
            "text/plain": [
              "{'Model': 0.6232247284878863,\n",
              " 'Harga': 0.13728766360345307,\n",
              " 'Kualitas': 0.23948760790866053}"
            ]
          },
          "metadata": {},
          "execution_count": 6
        }
      ]
    },
    {
      "cell_type": "markdown",
      "source": [
        "#Brand Comparisson"
      ],
      "metadata": {
        "id": "tJuS14NDUxXD"
      }
    },
    {
      "cell_type": "code",
      "source": [
        "#Dilihat dari segi model\n",
        "skor_model = calculate_priority([['Zara','Charles&Keith','H&M'], [4, 3]],1)\n",
        "skor_model"
      ],
      "metadata": {
        "colab": {
          "base_uri": "https://localhost:8080/"
        },
        "id": "yslu_34rVi5c",
        "outputId": "0bfbfc95-0c85-440c-cfa1-d64018a45c60"
      },
      "execution_count": null,
      "outputs": [
        {
          "output_type": "execute_result",
          "data": {
            "text/plain": [
              "{'Zara': 0.6232247284878863,\n",
              " 'Charles&Keith': 0.13728766360345307,\n",
              " 'H&M': 0.23948760790866053}"
            ]
          },
          "metadata": {},
          "execution_count": 8
        }
      ]
    },
    {
      "cell_type": "code",
      "source": [
        "#Dilihat dari soal harga\n",
        "skor_harga = calculate_priority([['Charles&Keith','Zara','H&M'], [3, 5]],1)\n",
        "skor_harga"
      ],
      "metadata": {
        "colab": {
          "base_uri": "https://localhost:8080/"
        },
        "id": "DXb_I2jkUvcF",
        "outputId": "8be748c5-a428-4c31-e52a-42890d072e45"
      },
      "execution_count": null,
      "outputs": [
        {
          "output_type": "execute_result",
          "data": {
            "text/plain": [
              "{'Charles&Keith': 0.633345720302242,\n",
              " 'Zara': 0.2604979561501301,\n",
              " 'H&M': 0.1061563235476279}"
            ]
          },
          "metadata": {},
          "execution_count": 7
        }
      ]
    },
    {
      "cell_type": "code",
      "source": [
        "#Dilihat dari segi Kualitas\n",
        "skor_kualitas = calculate_priority([['Charles&Keith','H&M','Zara',], [2, 3]],1)\n",
        "skor_kualitas"
      ],
      "metadata": {
        "colab": {
          "base_uri": "https://localhost:8080/"
        },
        "id": "cXRvlwfUWN3Q",
        "outputId": "8bb688c3-8974-474a-8f0b-6fd3379405a7"
      },
      "execution_count": null,
      "outputs": [
        {
          "output_type": "execute_result",
          "data": {
            "text/plain": [
              "{'Charles&Keith': 0.538961038961039,\n",
              " 'H&M': 0.2972582972582973,\n",
              " 'Zara': 0.16378066378066378}"
            ]
          },
          "metadata": {},
          "execution_count": 10
        }
      ]
    },
    {
      "cell_type": "markdown",
      "source": [
        "#AHP Table"
      ],
      "metadata": {
        "id": "0Ma_kAGpWuOD"
      }
    },
    {
      "cell_type": "code",
      "source": [
        "df = pd.DataFrame([skor_model, skor_harga, skor_kualitas])\n",
        "df.index = feature_scores.keys()\n",
        "df"
      ],
      "metadata": {
        "colab": {
          "base_uri": "https://localhost:8080/",
          "height": 143
        },
        "id": "RWm-UaQ-WwEI",
        "outputId": "f0c557c9-87dc-4b18-f3bb-26d7b08a168f"
      },
      "execution_count": null,
      "outputs": [
        {
          "output_type": "execute_result",
          "data": {
            "text/plain": [
              "              Zara  Charles&Keith       H&M\n",
              "Model     0.623225       0.137288  0.239488\n",
              "Harga     0.260498       0.633346  0.106156\n",
              "Kualitas  0.163781       0.538961  0.297258"
            ],
            "text/html": [
              "\n",
              "  <div id=\"df-a1138b9e-55bb-4e64-af51-8eedf7d98159\">\n",
              "    <div class=\"colab-df-container\">\n",
              "      <div>\n",
              "<style scoped>\n",
              "    .dataframe tbody tr th:only-of-type {\n",
              "        vertical-align: middle;\n",
              "    }\n",
              "\n",
              "    .dataframe tbody tr th {\n",
              "        vertical-align: top;\n",
              "    }\n",
              "\n",
              "    .dataframe thead th {\n",
              "        text-align: right;\n",
              "    }\n",
              "</style>\n",
              "<table border=\"1\" class=\"dataframe\">\n",
              "  <thead>\n",
              "    <tr style=\"text-align: right;\">\n",
              "      <th></th>\n",
              "      <th>Zara</th>\n",
              "      <th>Charles&amp;Keith</th>\n",
              "      <th>H&amp;M</th>\n",
              "    </tr>\n",
              "  </thead>\n",
              "  <tbody>\n",
              "    <tr>\n",
              "      <th>Model</th>\n",
              "      <td>0.623225</td>\n",
              "      <td>0.137288</td>\n",
              "      <td>0.239488</td>\n",
              "    </tr>\n",
              "    <tr>\n",
              "      <th>Harga</th>\n",
              "      <td>0.260498</td>\n",
              "      <td>0.633346</td>\n",
              "      <td>0.106156</td>\n",
              "    </tr>\n",
              "    <tr>\n",
              "      <th>Kualitas</th>\n",
              "      <td>0.163781</td>\n",
              "      <td>0.538961</td>\n",
              "      <td>0.297258</td>\n",
              "    </tr>\n",
              "  </tbody>\n",
              "</table>\n",
              "</div>\n",
              "      <button class=\"colab-df-convert\" onclick=\"convertToInteractive('df-a1138b9e-55bb-4e64-af51-8eedf7d98159')\"\n",
              "              title=\"Convert this dataframe to an interactive table.\"\n",
              "              style=\"display:none;\">\n",
              "        \n",
              "  <svg xmlns=\"http://www.w3.org/2000/svg\" height=\"24px\"viewBox=\"0 0 24 24\"\n",
              "       width=\"24px\">\n",
              "    <path d=\"M0 0h24v24H0V0z\" fill=\"none\"/>\n",
              "    <path d=\"M18.56 5.44l.94 2.06.94-2.06 2.06-.94-2.06-.94-.94-2.06-.94 2.06-2.06.94zm-11 1L8.5 8.5l.94-2.06 2.06-.94-2.06-.94L8.5 2.5l-.94 2.06-2.06.94zm10 10l.94 2.06.94-2.06 2.06-.94-2.06-.94-.94-2.06-.94 2.06-2.06.94z\"/><path d=\"M17.41 7.96l-1.37-1.37c-.4-.4-.92-.59-1.43-.59-.52 0-1.04.2-1.43.59L10.3 9.45l-7.72 7.72c-.78.78-.78 2.05 0 2.83L4 21.41c.39.39.9.59 1.41.59.51 0 1.02-.2 1.41-.59l7.78-7.78 2.81-2.81c.8-.78.8-2.07 0-2.86zM5.41 20L4 18.59l7.72-7.72 1.47 1.35L5.41 20z\"/>\n",
              "  </svg>\n",
              "      </button>\n",
              "      \n",
              "  <style>\n",
              "    .colab-df-container {\n",
              "      display:flex;\n",
              "      flex-wrap:wrap;\n",
              "      gap: 12px;\n",
              "    }\n",
              "\n",
              "    .colab-df-convert {\n",
              "      background-color: #E8F0FE;\n",
              "      border: none;\n",
              "      border-radius: 50%;\n",
              "      cursor: pointer;\n",
              "      display: none;\n",
              "      fill: #1967D2;\n",
              "      height: 32px;\n",
              "      padding: 0 0 0 0;\n",
              "      width: 32px;\n",
              "    }\n",
              "\n",
              "    .colab-df-convert:hover {\n",
              "      background-color: #E2EBFA;\n",
              "      box-shadow: 0px 1px 2px rgba(60, 64, 67, 0.3), 0px 1px 3px 1px rgba(60, 64, 67, 0.15);\n",
              "      fill: #174EA6;\n",
              "    }\n",
              "\n",
              "    [theme=dark] .colab-df-convert {\n",
              "      background-color: #3B4455;\n",
              "      fill: #D2E3FC;\n",
              "    }\n",
              "\n",
              "    [theme=dark] .colab-df-convert:hover {\n",
              "      background-color: #434B5C;\n",
              "      box-shadow: 0px 1px 3px 1px rgba(0, 0, 0, 0.15);\n",
              "      filter: drop-shadow(0px 1px 2px rgba(0, 0, 0, 0.3));\n",
              "      fill: #FFFFFF;\n",
              "    }\n",
              "  </style>\n",
              "\n",
              "      <script>\n",
              "        const buttonEl =\n",
              "          document.querySelector('#df-a1138b9e-55bb-4e64-af51-8eedf7d98159 button.colab-df-convert');\n",
              "        buttonEl.style.display =\n",
              "          google.colab.kernel.accessAllowed ? 'block' : 'none';\n",
              "\n",
              "        async function convertToInteractive(key) {\n",
              "          const element = document.querySelector('#df-a1138b9e-55bb-4e64-af51-8eedf7d98159');\n",
              "          const dataTable =\n",
              "            await google.colab.kernel.invokeFunction('convertToInteractive',\n",
              "                                                     [key], {});\n",
              "          if (!dataTable) return;\n",
              "\n",
              "          const docLinkHtml = 'Like what you see? Visit the ' +\n",
              "            '<a target=\"_blank\" href=https://colab.research.google.com/notebooks/data_table.ipynb>data table notebook</a>'\n",
              "            + ' to learn more about interactive tables.';\n",
              "          element.innerHTML = '';\n",
              "          dataTable['output_type'] = 'display_data';\n",
              "          await google.colab.output.renderOutput(dataTable, element);\n",
              "          const docLink = document.createElement('div');\n",
              "          docLink.innerHTML = docLinkHtml;\n",
              "          element.appendChild(docLink);\n",
              "        }\n",
              "      </script>\n",
              "    </div>\n",
              "  </div>\n",
              "  "
            ]
          },
          "metadata": {},
          "execution_count": 14
        }
      ]
    },
    {
      "cell_type": "code",
      "source": [
        "total = df.sum(axis=0)\n",
        "total.name = 'Total Score'\n",
        "df = pd.concat([df, total.to_frame().T])\n",
        "df"
      ],
      "metadata": {
        "colab": {
          "base_uri": "https://localhost:8080/",
          "height": 174
        },
        "id": "AqdxbPXTZGqc",
        "outputId": "356670e6-d06d-4366-e185-dc5ca07e2118"
      },
      "execution_count": null,
      "outputs": [
        {
          "output_type": "execute_result",
          "data": {
            "text/plain": [
              "                 Zara  Charles&Keith       H&M\n",
              "Model        0.623225       0.137288  0.239488\n",
              "Harga        0.260498       0.633346  0.106156\n",
              "Kualitas     0.163781       0.538961  0.297258\n",
              "Total Score  1.047503       1.309594  0.642902"
            ],
            "text/html": [
              "\n",
              "  <div id=\"df-80ebc26d-a401-4599-a11d-669bfd2de779\">\n",
              "    <div class=\"colab-df-container\">\n",
              "      <div>\n",
              "<style scoped>\n",
              "    .dataframe tbody tr th:only-of-type {\n",
              "        vertical-align: middle;\n",
              "    }\n",
              "\n",
              "    .dataframe tbody tr th {\n",
              "        vertical-align: top;\n",
              "    }\n",
              "\n",
              "    .dataframe thead th {\n",
              "        text-align: right;\n",
              "    }\n",
              "</style>\n",
              "<table border=\"1\" class=\"dataframe\">\n",
              "  <thead>\n",
              "    <tr style=\"text-align: right;\">\n",
              "      <th></th>\n",
              "      <th>Zara</th>\n",
              "      <th>Charles&amp;Keith</th>\n",
              "      <th>H&amp;M</th>\n",
              "    </tr>\n",
              "  </thead>\n",
              "  <tbody>\n",
              "    <tr>\n",
              "      <th>Model</th>\n",
              "      <td>0.623225</td>\n",
              "      <td>0.137288</td>\n",
              "      <td>0.239488</td>\n",
              "    </tr>\n",
              "    <tr>\n",
              "      <th>Harga</th>\n",
              "      <td>0.260498</td>\n",
              "      <td>0.633346</td>\n",
              "      <td>0.106156</td>\n",
              "    </tr>\n",
              "    <tr>\n",
              "      <th>Kualitas</th>\n",
              "      <td>0.163781</td>\n",
              "      <td>0.538961</td>\n",
              "      <td>0.297258</td>\n",
              "    </tr>\n",
              "    <tr>\n",
              "      <th>Total Score</th>\n",
              "      <td>1.047503</td>\n",
              "      <td>1.309594</td>\n",
              "      <td>0.642902</td>\n",
              "    </tr>\n",
              "  </tbody>\n",
              "</table>\n",
              "</div>\n",
              "      <button class=\"colab-df-convert\" onclick=\"convertToInteractive('df-80ebc26d-a401-4599-a11d-669bfd2de779')\"\n",
              "              title=\"Convert this dataframe to an interactive table.\"\n",
              "              style=\"display:none;\">\n",
              "        \n",
              "  <svg xmlns=\"http://www.w3.org/2000/svg\" height=\"24px\"viewBox=\"0 0 24 24\"\n",
              "       width=\"24px\">\n",
              "    <path d=\"M0 0h24v24H0V0z\" fill=\"none\"/>\n",
              "    <path d=\"M18.56 5.44l.94 2.06.94-2.06 2.06-.94-2.06-.94-.94-2.06-.94 2.06-2.06.94zm-11 1L8.5 8.5l.94-2.06 2.06-.94-2.06-.94L8.5 2.5l-.94 2.06-2.06.94zm10 10l.94 2.06.94-2.06 2.06-.94-2.06-.94-.94-2.06-.94 2.06-2.06.94z\"/><path d=\"M17.41 7.96l-1.37-1.37c-.4-.4-.92-.59-1.43-.59-.52 0-1.04.2-1.43.59L10.3 9.45l-7.72 7.72c-.78.78-.78 2.05 0 2.83L4 21.41c.39.39.9.59 1.41.59.51 0 1.02-.2 1.41-.59l7.78-7.78 2.81-2.81c.8-.78.8-2.07 0-2.86zM5.41 20L4 18.59l7.72-7.72 1.47 1.35L5.41 20z\"/>\n",
              "  </svg>\n",
              "      </button>\n",
              "      \n",
              "  <style>\n",
              "    .colab-df-container {\n",
              "      display:flex;\n",
              "      flex-wrap:wrap;\n",
              "      gap: 12px;\n",
              "    }\n",
              "\n",
              "    .colab-df-convert {\n",
              "      background-color: #E8F0FE;\n",
              "      border: none;\n",
              "      border-radius: 50%;\n",
              "      cursor: pointer;\n",
              "      display: none;\n",
              "      fill: #1967D2;\n",
              "      height: 32px;\n",
              "      padding: 0 0 0 0;\n",
              "      width: 32px;\n",
              "    }\n",
              "\n",
              "    .colab-df-convert:hover {\n",
              "      background-color: #E2EBFA;\n",
              "      box-shadow: 0px 1px 2px rgba(60, 64, 67, 0.3), 0px 1px 3px 1px rgba(60, 64, 67, 0.15);\n",
              "      fill: #174EA6;\n",
              "    }\n",
              "\n",
              "    [theme=dark] .colab-df-convert {\n",
              "      background-color: #3B4455;\n",
              "      fill: #D2E3FC;\n",
              "    }\n",
              "\n",
              "    [theme=dark] .colab-df-convert:hover {\n",
              "      background-color: #434B5C;\n",
              "      box-shadow: 0px 1px 3px 1px rgba(0, 0, 0, 0.15);\n",
              "      filter: drop-shadow(0px 1px 2px rgba(0, 0, 0, 0.3));\n",
              "      fill: #FFFFFF;\n",
              "    }\n",
              "  </style>\n",
              "\n",
              "      <script>\n",
              "        const buttonEl =\n",
              "          document.querySelector('#df-80ebc26d-a401-4599-a11d-669bfd2de779 button.colab-df-convert');\n",
              "        buttonEl.style.display =\n",
              "          google.colab.kernel.accessAllowed ? 'block' : 'none';\n",
              "\n",
              "        async function convertToInteractive(key) {\n",
              "          const element = document.querySelector('#df-80ebc26d-a401-4599-a11d-669bfd2de779');\n",
              "          const dataTable =\n",
              "            await google.colab.kernel.invokeFunction('convertToInteractive',\n",
              "                                                     [key], {});\n",
              "          if (!dataTable) return;\n",
              "\n",
              "          const docLinkHtml = 'Like what you see? Visit the ' +\n",
              "            '<a target=\"_blank\" href=https://colab.research.google.com/notebooks/data_table.ipynb>data table notebook</a>'\n",
              "            + ' to learn more about interactive tables.';\n",
              "          element.innerHTML = '';\n",
              "          dataTable['output_type'] = 'display_data';\n",
              "          await google.colab.output.renderOutput(dataTable, element);\n",
              "          const docLink = document.createElement('div');\n",
              "          docLink.innerHTML = docLinkHtml;\n",
              "          element.appendChild(docLink);\n",
              "        }\n",
              "      </script>\n",
              "    </div>\n",
              "  </div>\n",
              "  "
            ]
          },
          "metadata": {},
          "execution_count": 15
        }
      ]
    },
    {
      "cell_type": "markdown",
      "source": [
        "#Kesimpulan\n",
        "Berdasarkan perhitungan menggunakan metode AHP diatas didapatkan bahwa brand Charles&Keith memiliki skor yang tinggi sehingga direkomendasikan menjadi brand tas wanita yang layak untuk dibeli karena harga yang memiliki skor harga dan kualitas yang tinggi."
      ],
      "metadata": {
        "id": "IInJDFW5Zpvz"
      }
    }
  ]
}